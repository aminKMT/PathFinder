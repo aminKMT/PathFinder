{
 "cells": [
  {
   "cell_type": "markdown",
   "id": "042d507e",
   "metadata": {},
   "source": [
    "# Estimating Distance and Travel Time for Multiple Pairs of Origins and Destinations Considering Transportation Mode, Departure Time, Traffic Conditions, with Route Visualization on Map"
   ]
  },
  {
   "cell_type": "code",
   "execution_count": 1,
   "id": "bdee467b",
   "metadata": {},
   "outputs": [],
   "source": [
    "import googlemaps\n",
    "import folium\n",
    "import polyline\n",
    "import pandas as pd\n",
    "import random"
   ]
  },
  {
   "cell_type": "code",
   "execution_count": 2,
   "id": "e34e8034",
   "metadata": {},
   "outputs": [],
   "source": [
    "# Making a Function to generate random colors\n",
    "def random_color():\n",
    "    return \"#{:06x}\".format(random.randint(0, 0xFFFFFF))"
   ]
  },
  {
   "cell_type": "markdown",
   "id": "c8ab6d1f",
   "metadata": {},
   "source": [
    "Defining model inputs:"
   ]
  },
  {
   "cell_type": "code",
   "execution_count": 4,
   "id": "4f8182f2",
   "metadata": {},
   "outputs": [],
   "source": [
    "#Model Inputs:\n",
    "# Read the Excel file\n",
    "input_table    = 'C:/Users/YourName/Input_Table.xlsx'  # Replace with your input Excel file path or the one  in data folder\n",
    "df             = pd.read_excel(input_table)\n",
    "traffic_model  =  \"pessimistic\"  # can be \"best_guess\", \"pessimistic\", and \"optimistic\" \n",
    "departure_time = \"now\"\n",
    "mode           =\"driving\"  #  can be \"walking\", \"bicycling\", \"transit\"  \n",
    "API            = 'Your Goole Maps API' # Replcae with your Google Maps API. Find more info at https://console.cloud.google.com"
   ]
  },
  {
   "cell_type": "code",
   "execution_count": 5,
   "id": "2bcd7bf3",
   "metadata": {},
   "outputs": [],
   "source": [
    "# Setting up a client object that acts as a gateway to your Google Maps API defined above\n",
    "gmaps = googlemaps.Client(key= API)\n",
    "\n",
    "# Generating an empty list to store polyline coordinates\n",
    "all_routes = []"
   ]
  },
  {
   "cell_type": "code",
   "execution_count": 6,
   "id": "84571291",
   "metadata": {},
   "outputs": [],
   "source": [
    "# A for loop through each row of the DataFrame\n",
    "for index, row in df.iterrows():\n",
    "    origin = (row['origin_lat'], row['origin_long'])\n",
    "    destination = (row['destination_lat'], row['destination_long'])\n",
    "\n",
    "    # Calculating the directions considering traffic model and departure time\n",
    "    directions = gmaps.directions(\n",
    "        origin,\n",
    "        destination,\n",
    "        mode = mode,\n",
    "        traffic_model=traffic_model,\n",
    "        departure_time=departure_time\n",
    "    )\n",
    "\n",
    "    # Estimate the travel time and distance\n",
    "    leg = directions[0]['legs'][0]\n",
    "    travel_time = leg['duration']['text']\n",
    "    distance_meters = leg['distance']['value']\n",
    "    distance_miles = distance_meters * 0.000621371\n",
    "\n",
    "    # Update the DataFrame with the travel time and distance\n",
    "    df.loc[index, 'travel_time'] = travel_time\n",
    "    df.loc[index, 'distance_miles'] = distance_miles\n",
    "\n",
    "    # Get the route coordinates\n",
    "    route_coords = []\n",
    "    for step in leg['steps']:\n",
    "        route_coords.extend(polyline.decode(step['polyline']['points']))\n",
    "    \n",
    "    all_routes.append((route_coords, origin, destination))"
   ]
  },
  {
   "cell_type": "code",
   "execution_count": 32,
   "id": "f96ee894",
   "metadata": {},
   "outputs": [],
   "source": [
    "# Updating teh DataFrame to Generate a new Excel file\n",
    "output_file = 'C:/Users/YourName/RouteEstim.xlsx'  # Replace with the desired output Excel file name and the corresponding local address on your computer\n",
    "df.to_excel(output_file, index=False, engine='openpyxl')"
   ]
  },
  {
   "cell_type": "code",
   "execution_count": 77,
   "id": "c90940e8",
   "metadata": {},
   "outputs": [],
   "source": [
    "# Create a folium map centered at the first origin\n",
    "map = folium.Map(location=all_routes[0][1], zoom_start=12, tiles ='CartoDB Dark_Matter') # This tile parameter specifies the base map\n"
   ]
  },
  {
   "cell_type": "code",
   "execution_count": 78,
   "id": "63597ee4",
   "metadata": {},
   "outputs": [],
   "source": [
    "# Draw all the routes on the map with different colors\n",
    "for route_coords, origin, destination in all_routes:\n",
    "    color = random_color()\n",
    "    folium.PolyLine(route_coords, color=color, weight=5, opacity=0.7).add_to(map)\n",
    "    folium.Marker(origin, icon=folium.Icon(color=\"green\")).add_to(map)\n",
    "    folium.Marker(destination, icon=folium.Icon(color=\"red\")).add_to(map)"
   ]
  },
  {
   "cell_type": "code",
   "execution_count": 79,
   "id": "95bc8350",
   "metadata": {},
   "outputs": [
    {
     "data": {
      "text/html": [
       "<div style=\"width:100%;\"><div style=\"position:relative;width:100%;height:0;padding-bottom:60%;\"><span style=\"color:#565656\">Make this Notebook Trusted to load map: File -> Trust Notebook</span><iframe srcdoc=\"&lt;!DOCTYPE html&gt;\n",
       "&lt;html&gt;\n",
       "&lt;head&gt;\n",
       "    \n",
       "    &lt;meta http-equiv=&quot;content-type&quot; content=&quot;text/html; charset=UTF-8&quot; /&gt;\n",
       "    \n",
       "        &lt;script&gt;\n",
       "            L_NO_TOUCH = false;\n",
       "            L_DISABLE_3D = false;\n",
       "        &lt;/script&gt;\n",
       "    \n",
       "    &lt;style&gt;html, body {width: 100%;height: 100%;margin: 0;padding: 0;}&lt;/style&gt;\n",
       "    &lt;style&gt;#map {position:absolute;top:0;bottom:0;right:0;left:0;}&lt;/style&gt;\n",
       "    &lt;script src=&quot;https://cdn.jsdelivr.net/npm/leaflet@1.9.3/dist/leaflet.js&quot;&gt;&lt;/script&gt;\n",
       "    &lt;script src=&quot;https://code.jquery.com/jquery-1.12.4.min.js&quot;&gt;&lt;/script&gt;\n",
       "    &lt;script src=&quot;https://cdn.jsdelivr.net/npm/bootstrap@5.2.2/dist/js/bootstrap.bundle.min.js&quot;&gt;&lt;/script&gt;\n",
       "    &lt;script src=&quot;https://cdnjs.cloudflare.com/ajax/libs/Leaflet.awesome-markers/2.0.2/leaflet.awesome-markers.js&quot;&gt;&lt;/script&gt;\n",
       "    &lt;link rel=&quot;stylesheet&quot; href=&quot;https://cdn.jsdelivr.net/npm/leaflet@1.9.3/dist/leaflet.css&quot;/&gt;\n",
       "    &lt;link rel=&quot;stylesheet&quot; href=&quot;https://cdn.jsdelivr.net/npm/bootstrap@5.2.2/dist/css/bootstrap.min.css&quot;/&gt;\n",
       "    &lt;link rel=&quot;stylesheet&quot; href=&quot;https://netdna.bootstrapcdn.com/bootstrap/3.0.0/css/bootstrap.min.css&quot;/&gt;\n",
       "    &lt;link rel=&quot;stylesheet&quot; href=&quot;https://cdn.jsdelivr.net/npm/@fortawesome/fontawesome-free@6.2.0/css/all.min.css&quot;/&gt;\n",
       "    &lt;link rel=&quot;stylesheet&quot; href=&quot;https://cdnjs.cloudflare.com/ajax/libs/Leaflet.awesome-markers/2.0.2/leaflet.awesome-markers.css&quot;/&gt;\n",
       "    &lt;link rel=&quot;stylesheet&quot; href=&quot;https://cdn.jsdelivr.net/gh/python-visualization/folium/folium/templates/leaflet.awesome.rotate.min.css&quot;/&gt;\n",
       "    \n",
       "            &lt;meta name=&quot;viewport&quot; content=&quot;width=device-width,\n",
       "                initial-scale=1.0, maximum-scale=1.0, user-scalable=no&quot; /&gt;\n",
       "            &lt;style&gt;\n",
       "                #map_307e6d6c727898e3b7719e2a67b95646 {\n",
       "                    position: relative;\n",
       "                    width: 100.0%;\n",
       "                    height: 100.0%;\n",
       "                    left: 0.0%;\n",
       "                    top: 0.0%;\n",
       "                }\n",
       "                .leaflet-container { font-size: 1rem; }\n",
       "            &lt;/style&gt;\n",
       "        \n",
       "&lt;/head&gt;\n",
       "&lt;body&gt;\n",
       "    \n",
       "    \n",
       "            &lt;div class=&quot;folium-map&quot; id=&quot;map_307e6d6c727898e3b7719e2a67b95646&quot; &gt;&lt;/div&gt;\n",
       "        \n",
       "&lt;/body&gt;\n",
       "&lt;script&gt;\n",
       "    \n",
       "    \n",
       "            var map_307e6d6c727898e3b7719e2a67b95646 = L.map(\n",
       "                &quot;map_307e6d6c727898e3b7719e2a67b95646&quot;,\n",
       "                {\n",
       "                    center: [40.7532, -73.9822],\n",
       "                    crs: L.CRS.EPSG3857,\n",
       "                    zoom: 12,\n",
       "                    zoomControl: true,\n",
       "                    preferCanvas: false,\n",
       "                }\n",
       "            );\n",
       "\n",
       "            \n",
       "\n",
       "        \n",
       "    \n",
       "            var tile_layer_11125cad734f4e457d43d529cd1fabd6 = L.tileLayer(\n",
       "                &quot;https://cartodb-basemaps-{s}.global.ssl.fastly.net/dark_all/{z}/{x}/{y}.png&quot;,\n",
       "                {&quot;attribution&quot;: &quot;\\u0026copy; \\u003ca target=\\&quot;_blank\\&quot; href=\\&quot;http://www.openstreetmap.org/copyright\\&quot;\\u003eOpenStreetMap\\u003c/a\\u003e contributors \\u0026copy; \\u003ca target=\\&quot;_blank\\&quot; href=\\&quot;http://cartodb.com/attributions\\&quot;\\u003eCartoDB\\u003c/a\\u003e, CartoDB \\u003ca target=\\&quot;_blank\\&quot; href =\\&quot;http://cartodb.com/attributions\\&quot;\\u003eattributions\\u003c/a\\u003e&quot;, &quot;detectRetina&quot;: false, &quot;maxNativeZoom&quot;: 18, &quot;maxZoom&quot;: 18, &quot;minZoom&quot;: 0, &quot;noWrap&quot;: false, &quot;opacity&quot;: 1, &quot;subdomains&quot;: &quot;abc&quot;, &quot;tms&quot;: false}\n",
       "            ).addTo(map_307e6d6c727898e3b7719e2a67b95646);\n",
       "        \n",
       "    \n",
       "            var poly_line_d370dfc1f33df89c96caf7de3ef2209a = L.polyline(\n",
       "                [[40.75386, -73.98178], [40.75414, -73.98242], [40.75417, -73.9825], [40.7542, -73.98259], [40.75424, -73.98268], [40.7544, -73.98306], [40.75449, -73.98327], [40.75464, -73.98364], [40.75469, -73.98374], [40.75478, -73.98398], [40.75483, -73.98411], [40.75493, -73.98435], [40.75496, -73.98444], [40.75504, -73.98462], [40.75519, -73.985], [40.75543, -73.98555], [40.75581, -73.98642], [40.75604, -73.98695], [40.75607, -73.98701], [40.75648, -73.98799], [40.75649, -73.98799], [40.75657, -73.98819], [40.75658, -73.9882], [40.75659, -73.98823], [40.75725, -73.98979], [40.75751, -73.99042], [40.75753, -73.99049], [40.75762, -73.99072], [40.75788, -73.99133], [40.75818, -73.99203], [40.75844, -73.99264], [40.75864, -73.99312], [40.75876, -73.99339], [40.75879, -73.99347], [40.75888, -73.99368], [40.75899, -73.99394], [40.75916, -73.99436], [40.75925, -73.99456], [40.75934, -73.99477], [40.7596, -73.99539], [40.75963, -73.99548], [40.75982, -73.9959], [40.75997, -73.99624], [40.76037, -73.99719], [40.76043, -73.99732], [40.7605, -73.99751], [40.76059, -73.99772], [40.76077, -73.99812], [40.76085, -73.99822], [40.7609, -73.99835], [40.76109, -73.99881], [40.76116, -73.99899], [40.76124, -73.99917], [40.76129, -73.99928], [40.76139, -73.99953], [40.76144, -73.99965], [40.7615, -73.99978], [40.76159, -74.0], [40.76163, -74.00009], [40.76176, -74.00039], [40.76195, -74.00086], [40.76202, -74.00102], [40.76202, -74.00102], [40.76215, -74.00086], [40.76233, -74.00059], [40.76254, -74.00029], [40.76264, -74.00017], [40.76303, -73.99964], [40.76309, -73.99957], [40.76323, -73.99939], [40.76328, -73.99933], [40.76336, -73.99924], [40.76346, -73.99914], [40.76363, -73.99898], [40.7637, -73.99891], [40.76373, -73.99888], [40.76378, -73.99885], [40.76385, -73.99879], [40.76392, -73.99874], [40.76394, -73.99872], [40.76395, -73.99871], [40.76415, -73.99856], [40.76424, -73.9985], [40.76479, -73.9981], [40.76486, -73.99805], [40.76511, -73.99788], [40.76535, -73.99771], [40.76541, -73.99766], [40.7655, -73.9976], [40.76574, -73.99742], [40.76613, -73.99714], [40.76663, -73.99677], [40.76675, -73.99668], [40.76678, -73.99666], [40.76727, -73.99629], [40.76737, -73.99622], [40.76749, -73.99613], [40.76787, -73.99586], [40.768, -73.99577], [40.76817, -73.99565], [40.76911, -73.99496], [40.76917, -73.99492], [40.7692, -73.99489], [40.76925, -73.99486], [40.76939, -73.99478], [40.76948, -73.99472], [40.76958, -73.99468], [40.76968, -73.99463], [40.76976, -73.9946], [40.76977, -73.9946], [40.76983, -73.99458], [40.76993, -73.99454], [40.77003, -73.99451], [40.77006, -73.9945], [40.77012, -73.99448], [40.77031, -73.99446], [40.77039, -73.99445], [40.7704, -73.99445], [40.77063, -73.99442], [40.77071, -73.99441], [40.77096, -73.99438], [40.77105, -73.99436], [40.77112, -73.99434], [40.77121, -73.99432], [40.77122, -73.99432], [40.7713, -73.99429], [40.77138, -73.99427], [40.77146, -73.99424], [40.77153, -73.99421], [40.77153, -73.99421], [40.77162, -73.99418], [40.77172, -73.99412], [40.77182, -73.99407], [40.77183, -73.99406], [40.77187, -73.99403], [40.77193, -73.99398], [40.77203, -73.99391], [40.77216, -73.99382], [40.77225, -73.99375], [40.7726, -73.9935], [40.77263, -73.99348], [40.77279, -73.99336], [40.77281, -73.99335], [40.77288, -73.9933], [40.7729, -73.99328], [40.77302, -73.9932], [40.77313, -73.99312], [40.77323, -73.99304], [40.77342, -73.9929], [40.7736, -73.99278], [40.77362, -73.99277], [40.77389, -73.99259], [40.77392, -73.99257], [40.77427, -73.99235], [40.7743, -73.99233], [40.77441, -73.99225], [40.77459, -73.99214], [40.77463, -73.99212], [40.7748, -73.99201], [40.77484, -73.99198], [40.77489, -73.99194], [40.77491, -73.99193], [40.77494, -73.99191], [40.77504, -73.99183], [40.77507, -73.99181], [40.77515, -73.99175], [40.77517, -73.99174], [40.77535, -73.99161], [40.77554, -73.99147], [40.77573, -73.99133], [40.77594, -73.99118], [40.77615, -73.99102], [40.77633, -73.9909], [40.77634, -73.99089], [40.7771, -73.99034], [40.77713, -73.99031], [40.77727, -73.99021], [40.77746, -73.99007], [40.77838, -73.98941], [40.7785, -73.98931], [40.77862, -73.98922], [40.77869, -73.98918], [40.77917, -73.98882], [40.77933, -73.98871], [40.77938, -73.98868], [40.77955, -73.98856], [40.77973, -73.98844], [40.78004, -73.9882], [40.78041, -73.98791], [40.78079, -73.98755], [40.78083, -73.98752], [40.78094, -73.98741], [40.78097, -73.98737], [40.78118, -73.98717], [40.78148, -73.98687], [40.78149, -73.98685], [40.78151, -73.98684], [40.78159, -73.98677], [40.78166, -73.9867], [40.78238, -73.98617], [40.78241, -73.98615], [40.78287, -73.98582], [40.78307, -73.98567], [40.78323, -73.98555], [40.7835, -73.98536], [40.78378, -73.98516], [40.78413, -73.98491], [40.78431, -73.98478], [40.78459, -73.98458], [40.78489, -73.98438], [40.7851, -73.98423], [40.78517, -73.98418], [40.78541, -73.98402], [40.78575, -73.98378], [40.78592, -73.98367], [40.78611, -73.98356], [40.78615, -73.98354], [40.78623, -73.9835], [40.78632, -73.98345], [40.78645, -73.98339], [40.78651, -73.98335], [40.78663, -73.98329], [40.78675, -73.98325], [40.78693, -73.98317], [40.78712, -73.98309], [40.78726, -73.98304], [40.78733, -73.98302], [40.78745, -73.98298], [40.78768, -73.98288], [40.78804, -73.98275], [40.78806, -73.98274], [40.78844, -73.98259], [40.7885, -73.98256], [40.78856, -73.98254], [40.78866, -73.9825], [40.789, -73.98234], [40.78929, -73.98221], [40.78951, -73.9821], [40.78956, -73.98208], [40.78962, -73.98204], [40.78972, -73.98199], [40.78993, -73.98187], [40.7902, -73.98172], [40.79028, -73.98168], [40.79038, -73.98162], [40.79052, -73.98153], [40.79057, -73.98151], [40.79064, -73.98146], [40.79085, -73.98133], [40.79092, -73.98129], [40.7911, -73.98117], [40.79124, -73.98107], [40.79134, -73.981], [40.7915, -73.98089], [40.79166, -73.98078], [40.79182, -73.98067], [40.79195, -73.98058], [40.79213, -73.98044], [40.7922, -73.98039], [40.79225, -73.98035], [40.79245, -73.98019], [40.7926, -73.98007], [40.79273, -73.97997], [40.79303, -73.97971], [40.79306, -73.97969], [40.79331, -73.97946], [40.79338, -73.9794], [40.79347, -73.97932], [40.79366, -73.97913], [40.79377, -73.97902], [40.79384, -73.97895], [40.79399, -73.97879], [40.7942, -73.97856], [40.79435, -73.97838], [40.79451, -73.9782], [40.79468, -73.97799], [40.79477, -73.97788], [40.79505, -73.97753], [40.79527, -73.97725], [40.79547, -73.97701], [40.79563, -73.97681], [40.79587, -73.97656], [40.79588, -73.97654], [40.79602, -73.9764], [40.79602, -73.9764], [40.79603, -73.97628], [40.79603, -73.97627], [40.79607, -73.97622], [40.7961, -73.97619], [40.79612, -73.97616], [40.79615, -73.97611], [40.79619, -73.97602], [40.79621, -73.97599], [40.79622, -73.97596], [40.79622, -73.97593], [40.79623, -73.97591], [40.79623, -73.97588], [40.79624, -73.97587], [40.79624, -73.97585], [40.79624, -73.97579], [40.79624, -73.97573], [40.79623, -73.97567], [40.79621, -73.9756], [40.7962, -73.97553], [40.79618, -73.97544], [40.79615, -73.9753], [40.79615, -73.9753], [40.79606, -73.97509], [40.79595, -73.97484], [40.79565, -73.97413], [40.79545, -73.97365], [40.79536, -73.97344], [40.79527, -73.97322], [40.79515, -73.97294], [40.79506, -73.97273], [40.79481, -73.97213], [40.79479, -73.97208], [40.79472, -73.97192], [40.79472, -73.97192], [40.79461, -73.97167], [40.79483, -73.97153], [40.79498, -73.97143], [40.79524, -73.97125], [40.79529, -73.9712], [40.7954, -73.97112], [40.79581, -73.97082], [40.79592, -73.97074], [40.79606, -73.97063], [40.7964, -73.97039], [40.79656, -73.97028], [40.79688, -73.97005], [40.79708, -73.96991], [40.79718, -73.96984], [40.79735, -73.96971], [40.79766, -73.96948], [40.7978, -73.96937], [40.79795, -73.96926], [40.79831, -73.96901], [40.79844, -73.96892], [40.7986, -73.96881], [40.79908, -73.96846], [40.79918, -73.96842], [40.79931, -73.96835], [40.79962, -73.96819], [40.79975, -73.96812], [40.79996, -73.96805], [40.80035, -73.96792], [40.8005, -73.96789], [40.80067, -73.96787], [40.8011, -73.96781], [40.80127, -73.9678], [40.80137, -73.96778], [40.80142, -73.96778], [40.80148, -73.96777], [40.80155, -73.96776], [40.80205, -73.96772], [40.80217, -73.9677], [40.80232, -73.96769], [40.80254, -73.96765], [40.80262, -73.96762], [40.80275, -73.96757], [40.80291, -73.9675], [40.80297, -73.96747], [40.80301, -73.96745], [40.80309, -73.96739], [40.80323, -73.96729], [40.80342, -73.96715], [40.80347, -73.96712], [40.80348, -73.96711], [40.80354, -73.96708], [40.80359, -73.96703], [40.8039, -73.9668], [40.80411, -73.96664], [40.80416, -73.9666], [40.80479, -73.96613], [40.80505, -73.96595], [40.80542, -73.96568], [40.80605, -73.96522], [40.80667, -73.96476], [40.80693, -73.96457], [40.80731, -73.9643], [40.80772, -73.96399], [40.8079, -73.96386], [40.80798, -73.9638]],\n",
       "                {&quot;bubblingMouseEvents&quot;: true, &quot;color&quot;: &quot;#3aed14&quot;, &quot;dashArray&quot;: null, &quot;dashOffset&quot;: null, &quot;fill&quot;: false, &quot;fillColor&quot;: &quot;#3aed14&quot;, &quot;fillOpacity&quot;: 0.2, &quot;fillRule&quot;: &quot;evenodd&quot;, &quot;lineCap&quot;: &quot;round&quot;, &quot;lineJoin&quot;: &quot;round&quot;, &quot;noClip&quot;: false, &quot;opacity&quot;: 0.7, &quot;smoothFactor&quot;: 1.0, &quot;stroke&quot;: true, &quot;weight&quot;: 5}\n",
       "            ).addTo(map_307e6d6c727898e3b7719e2a67b95646);\n",
       "        \n",
       "    \n",
       "            var marker_d5b74fae43b6e0f7e9a74dbb51442adb = L.marker(\n",
       "                [40.7532, -73.9822],\n",
       "                {}\n",
       "            ).addTo(map_307e6d6c727898e3b7719e2a67b95646);\n",
       "        \n",
       "    \n",
       "            var icon_147cfad93f3dec61d03d936991f3eecb = L.AwesomeMarkers.icon(\n",
       "                {&quot;extraClasses&quot;: &quot;fa-rotate-0&quot;, &quot;icon&quot;: &quot;info-sign&quot;, &quot;iconColor&quot;: &quot;white&quot;, &quot;markerColor&quot;: &quot;green&quot;, &quot;prefix&quot;: &quot;glyphicon&quot;}\n",
       "            );\n",
       "            marker_d5b74fae43b6e0f7e9a74dbb51442adb.setIcon(icon_147cfad93f3dec61d03d936991f3eecb);\n",
       "        \n",
       "    \n",
       "            var marker_a613d14ff53babe140eeeaac26ee6051 = L.marker(\n",
       "                [40.8075, -73.9626],\n",
       "                {}\n",
       "            ).addTo(map_307e6d6c727898e3b7719e2a67b95646);\n",
       "        \n",
       "    \n",
       "            var icon_23233f0e87d521611a8c0d2e8071e6b4 = L.AwesomeMarkers.icon(\n",
       "                {&quot;extraClasses&quot;: &quot;fa-rotate-0&quot;, &quot;icon&quot;: &quot;info-sign&quot;, &quot;iconColor&quot;: &quot;white&quot;, &quot;markerColor&quot;: &quot;red&quot;, &quot;prefix&quot;: &quot;glyphicon&quot;}\n",
       "            );\n",
       "            marker_a613d14ff53babe140eeeaac26ee6051.setIcon(icon_23233f0e87d521611a8c0d2e8071e6b4);\n",
       "        \n",
       "    \n",
       "            var poly_line_f05cf4c9fa7c1312598219962885bf28 = L.polyline(\n",
       "                [[40.75282, -73.98137], [40.75256, -73.98157], [40.75231, -73.98175], [40.75221, -73.98183], [40.75192, -73.98204], [40.75159, -73.98228], [40.75134, -73.98246], [40.75097, -73.98272], [40.75082, -73.98283], [40.75063, -73.98297], [40.75036, -73.98316], [40.75016, -73.98331], [40.74973, -73.98362], [40.74959, -73.98372], [40.74945, -73.98382], [40.74911, -73.98407], [40.74877, -73.98432], [40.7486, -73.98445], [40.74845, -73.98457], [40.74815, -73.98479], [40.74778, -73.98507], [40.74749, -73.98527], [40.74716, -73.9855], [40.74701, -73.98562], [40.74685, -73.98574], [40.74654, -73.98597], [40.74647, -73.98601], [40.74627, -73.98616], [40.74623, -73.98619], [40.74593, -73.98642], [40.74574, -73.98654], [40.74532, -73.98685], [40.74525, -73.9869], [40.74491, -73.98714], [40.74469, -73.9873], [40.74437, -73.98753], [40.74416, -73.98768], [40.74407, -73.98775], [40.74391, -73.98787], [40.74359, -73.9881], [40.74346, -73.9882], [40.7431, -73.98846], [40.74289, -73.98861], [40.74283, -73.98864], [40.74253, -73.98886], [40.74243, -73.98893], [40.74226, -73.98906], [40.74221, -73.9891], [40.74216, -73.98914], [40.74191, -73.98932], [40.7418, -73.98941], [40.74157, -73.98958], [40.74142, -73.98969], [40.74107, -73.98994], [40.74089, -73.99007], [40.74078, -73.99015], [40.7404, -73.99042], [40.74025, -73.99053], [40.74016, -73.9906], [40.7401, -73.99064], [40.73992, -73.99077], [40.73985, -73.99082], [40.73968, -73.99095], [40.73956, -73.99104], [40.7392, -73.99131], [40.7391, -73.99138], [40.73904, -73.99141], [40.73899, -73.99144], [40.73872, -73.99165], [40.73864, -73.9917], [40.73849, -73.99181], [40.73841, -73.99187], [40.73804, -73.99214], [40.73792, -73.99222], [40.73783, -73.99229], [40.7375, -73.99254], [40.73734, -73.99266], [40.73729, -73.99271], [40.73725, -73.99274], [40.73703, -73.99289], [40.7368, -73.99307], [40.73669, -73.99315], [40.73619, -73.99351], [40.73614, -73.99355], [40.73602, -73.99364], [40.73568, -73.99388], [40.73532, -73.99413], [40.73529, -73.99415], [40.73491, -73.99442], [40.73467, -73.99459], [40.73453, -73.99469], [40.73404, -73.99506], [40.73401, -73.99509], [40.73348, -73.99548], [40.73344, -73.99552], [40.7329, -73.99591], [40.73285, -73.99594], [40.73262, -73.99611], [40.7325, -73.99619], [40.73235, -73.99631], [40.73225, -73.99639], [40.73215, -73.99646], [40.73202, -73.99655], [40.73188, -73.99665], [40.73186, -73.99666], [40.73165, -73.99682], [40.73146, -73.99695], [40.73141, -73.99698], [40.73141, -73.99698], [40.73143, -73.99701], [40.73147, -73.99709], [40.73197, -73.99811], [40.73222, -73.99863], [40.73222, -73.99863], [40.73211, -73.99872], [40.73163, -73.99912], [40.73105, -73.99961], [40.73105, -73.99961], [40.73097, -73.99946], [40.73097, -73.99945], [40.73078, -73.99906], [40.73073, -73.99897], [40.73068, -73.99886], [40.73065, -73.99881], [40.7303, -73.99808], [40.73026, -73.99799], [40.73016, -73.99779], [40.72995, -73.99737], [40.72968, -73.99681], [40.72956, -73.99658], [40.72956, -73.99658], [40.72952, -73.99649]],\n",
       "                {&quot;bubblingMouseEvents&quot;: true, &quot;color&quot;: &quot;#d4d126&quot;, &quot;dashArray&quot;: null, &quot;dashOffset&quot;: null, &quot;fill&quot;: false, &quot;fillColor&quot;: &quot;#d4d126&quot;, &quot;fillOpacity&quot;: 0.2, &quot;fillRule&quot;: &quot;evenodd&quot;, &quot;lineCap&quot;: &quot;round&quot;, &quot;lineJoin&quot;: &quot;round&quot;, &quot;noClip&quot;: false, &quot;opacity&quot;: 0.7, &quot;smoothFactor&quot;: 1.0, &quot;stroke&quot;: true, &quot;weight&quot;: 5}\n",
       "            ).addTo(map_307e6d6c727898e3b7719e2a67b95646);\n",
       "        \n",
       "    \n",
       "            var marker_e99bfa2ded3c63bf5fa46607b714f309 = L.marker(\n",
       "                [40.7532, -73.9822],\n",
       "                {}\n",
       "            ).addTo(map_307e6d6c727898e3b7719e2a67b95646);\n",
       "        \n",
       "    \n",
       "            var icon_3aebd58ba235f903f5c41810c48c0d5e = L.AwesomeMarkers.icon(\n",
       "                {&quot;extraClasses&quot;: &quot;fa-rotate-0&quot;, &quot;icon&quot;: &quot;info-sign&quot;, &quot;iconColor&quot;: &quot;white&quot;, &quot;markerColor&quot;: &quot;green&quot;, &quot;prefix&quot;: &quot;glyphicon&quot;}\n",
       "            );\n",
       "            marker_e99bfa2ded3c63bf5fa46607b714f309.setIcon(icon_3aebd58ba235f903f5c41810c48c0d5e);\n",
       "        \n",
       "    \n",
       "            var marker_d9b413ec82385e9a52ef919583bd6a10 = L.marker(\n",
       "                [40.7295, -73.9965],\n",
       "                {}\n",
       "            ).addTo(map_307e6d6c727898e3b7719e2a67b95646);\n",
       "        \n",
       "    \n",
       "            var icon_83d368ec0fb178ff36b423121d7959da = L.AwesomeMarkers.icon(\n",
       "                {&quot;extraClasses&quot;: &quot;fa-rotate-0&quot;, &quot;icon&quot;: &quot;info-sign&quot;, &quot;iconColor&quot;: &quot;white&quot;, &quot;markerColor&quot;: &quot;red&quot;, &quot;prefix&quot;: &quot;glyphicon&quot;}\n",
       "            );\n",
       "            marker_d9b413ec82385e9a52ef919583bd6a10.setIcon(icon_83d368ec0fb178ff36b423121d7959da);\n",
       "        \n",
       "&lt;/script&gt;\n",
       "&lt;/html&gt;\" style=\"position:absolute;width:100%;height:100%;left:0;top:0;border:none !important;\" allowfullscreen webkitallowfullscreen mozallowfullscreen></iframe></div></div>"
      ],
      "text/plain": [
       "<folium.folium.Map at 0x19ed62e9af0>"
      ]
     },
     "execution_count": 79,
     "metadata": {},
     "output_type": "execute_result"
    }
   ],
   "source": [
    "# Display the map\n",
    "map\n"
   ]
  },
  {
   "cell_type": "code",
   "execution_count": null,
   "id": "753e5943",
   "metadata": {},
   "outputs": [],
   "source": []
  }
 ],
 "metadata": {
  "kernelspec": {
   "display_name": "Python 3 (ipykernel)",
   "language": "python",
   "name": "python3"
  },
  "language_info": {
   "codemirror_mode": {
    "name": "ipython",
    "version": 3
   },
   "file_extension": ".py",
   "mimetype": "text/x-python",
   "name": "python",
   "nbconvert_exporter": "python",
   "pygments_lexer": "ipython3",
   "version": "3.9.16"
  }
 },
 "nbformat": 4,
 "nbformat_minor": 5
}
